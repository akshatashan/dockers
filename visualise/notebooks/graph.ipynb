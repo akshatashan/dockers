{
 "cells": [
  {
   "cell_type": "code",
   "execution_count": 2,
   "metadata": {},
   "outputs": [],
   "source": [
    "import json\n",
    "import plotly.graph_objs as go\n",
    "\n",
    "from time import sleep\n",
    "from kafka import KafkaConsumer"
   ]
  },
  {
   "cell_type": "code",
   "execution_count": 15,
   "metadata": {},
   "outputs": [
    {
     "data": {
      "application/vnd.jupyter.widget-view+json": {
       "model_id": "00d3ea6fca3749b5958e7606e003d223",
       "version_major": 2,
       "version_minor": 0
      },
      "text/plain": [
       "FigureWidget({\n",
       "    'data': [{'mode': 'lines+markers',\n",
       "              'name': 'All wiki edits per second',\n",
       "     …"
      ]
     },
     "metadata": {},
     "output_type": "display_data"
    }
   ],
   "source": [
    "figure = go.FigureWidget(data=[\n",
    "    go.Scatter(x=[],y=[], name=\"All wiki edits per second\", mode=\"lines+markers\")\n",
    "], layout={\n",
    "    \"title\": \"Counts/second - Live feed\", \n",
    "    \"xaxis\": {\"title\": \"time(UTC)\"},\n",
    "    \"yaxis\": {\"title\": \"Counts\",  \"range\": [0, 50]}\n",
    "})\n",
    "display(figure)"
   ]
  },
  {
   "cell_type": "code",
   "execution_count": 5,
   "metadata": {},
   "outputs": [],
   "source": [
    "KAFKA_SERVER = \"kafka:9093\"\n",
    "KAFKA_TOPICS = [\"output\"]\n",
    "\n",
    "consumer = KafkaConsumer(bootstrap_servers=KAFKA_SERVER, consumer_timeout_ms=1000)\n",
    "consumer.subscribe(KAFKA_TOPICS)\n"
   ]
  },
  {
   "cell_type": "code",
   "execution_count": null,
   "metadata": {},
   "outputs": [
    {
     "name": "stdout",
     "output_type": "stream",
     "text": [
      "output b'{\"identifier\":\"\",\"count\":12,\"window\":\"2019-03-09T10:48:56.999Z\"}'\n",
      "output b'{\"identifier\":\"\",\"count\":12,\"window\":\"2019-03-09T10:48:57.999Z\"}'\n",
      "output b'{\"identifier\":\"\",\"count\":16,\"window\":\"2019-03-09T10:48:58.999Z\"}'\n",
      "output b'{\"identifier\":\"\",\"count\":13,\"window\":\"2019-03-09T10:48:59.999Z\"}'\n",
      "output b'{\"identifier\":\"\",\"count\":23,\"window\":\"2019-03-09T10:49:00.999Z\"}'\n",
      "output b'{\"identifier\":\"\",\"count\":13,\"window\":\"2019-03-09T10:49:01.999Z\"}'\n",
      "output b'{\"identifier\":\"\",\"count\":17,\"window\":\"2019-03-09T10:49:02.999Z\"}'\n",
      "output b'{\"identifier\":\"\",\"count\":8,\"window\":\"2019-03-09T10:49:03.999Z\"}'\n",
      "output b'{\"identifier\":\"\",\"count\":20,\"window\":\"2019-03-09T10:49:04.999Z\"}'\n",
      "output b'{\"identifier\":\"\",\"count\":11,\"window\":\"2019-03-09T10:49:05.999Z\"}'\n",
      "output b'{\"identifier\":\"\",\"count\":12,\"window\":\"2019-03-09T10:49:06.999Z\"}'\n",
      "output b'{\"identifier\":\"\",\"count\":28,\"window\":\"2019-03-09T10:49:07.999Z\"}'\n",
      "output b'{\"identifier\":\"\",\"count\":13,\"window\":\"2019-03-09T10:49:08.999Z\"}'\n",
      "output b'{\"identifier\":\"\",\"count\":18,\"window\":\"2019-03-09T10:49:09.999Z\"}'\n",
      "output b'{\"identifier\":\"\",\"count\":15,\"window\":\"2019-03-09T10:49:10.999Z\"}'\n",
      "output b'{\"identifier\":\"\",\"count\":12,\"window\":\"2019-03-09T10:49:11.999Z\"}'\n",
      "output b'{\"identifier\":\"\",\"count\":14,\"window\":\"2019-03-09T10:49:12.999Z\"}'\n",
      "output b'{\"identifier\":\"\",\"count\":26,\"window\":\"2019-03-09T10:49:13.999Z\"}'\n",
      "output b'{\"identifier\":\"\",\"count\":14,\"window\":\"2019-03-09T10:49:14.999Z\"}'\n",
      "output b'{\"identifier\":\"\",\"count\":20,\"window\":\"2019-03-09T10:49:15.999Z\"}'\n",
      "output b'{\"identifier\":\"\",\"count\":10,\"window\":\"2019-03-09T10:49:16.999Z\"}'\n",
      "output b'{\"identifier\":\"\",\"count\":15,\"window\":\"2019-03-09T10:49:17.999Z\"}'\n",
      "output b'{\"identifier\":\"\",\"count\":12,\"window\":\"2019-03-09T10:49:18.999Z\"}'\n",
      "output b'{\"identifier\":\"\",\"count\":19,\"window\":\"2019-03-09T10:49:19.999Z\"}'\n",
      "output b'{\"identifier\":\"\",\"count\":8,\"window\":\"2019-03-09T10:49:20.999Z\"}'\n",
      "output b'{\"identifier\":\"\",\"count\":25,\"window\":\"2019-03-09T10:49:21.999Z\"}'\n",
      "output b'{\"identifier\":\"\",\"count\":15,\"window\":\"2019-03-09T10:49:22.999Z\"}'\n",
      "output b'{\"identifier\":\"\",\"count\":10,\"window\":\"2019-03-09T10:49:23.999Z\"}'\n",
      "output b'{\"identifier\":\"\",\"count\":17,\"window\":\"2019-03-09T10:49:24.999Z\"}'\n",
      "output b'{\"identifier\":\"\",\"count\":14,\"window\":\"2019-03-09T10:49:25.999Z\"}'\n",
      "output b'{\"identifier\":\"\",\"count\":14,\"window\":\"2019-03-09T10:49:26.999Z\"}'\n",
      "output b'{\"identifier\":\"\",\"count\":18,\"window\":\"2019-03-09T10:49:27.999Z\"}'\n",
      "output b'{\"identifier\":\"\",\"count\":22,\"window\":\"2019-03-09T10:49:28.999Z\"}'\n",
      "output b'{\"identifier\":\"\",\"count\":12,\"window\":\"2019-03-09T10:49:29.999Z\"}'\n",
      "output b'{\"identifier\":\"\",\"count\":20,\"window\":\"2019-03-09T10:49:30.999Z\"}'\n",
      "output b'{\"identifier\":\"\",\"count\":17,\"window\":\"2019-03-09T10:49:31.999Z\"}'\n",
      "output b'{\"identifier\":\"\",\"count\":7,\"window\":\"2019-03-09T10:49:32.999Z\"}'\n",
      "output b'{\"identifier\":\"\",\"count\":18,\"window\":\"2019-03-09T10:49:33.999Z\"}'\n",
      "output b'{\"identifier\":\"\",\"count\":24,\"window\":\"2019-03-09T10:49:34.999Z\"}'\n",
      "output b'{\"identifier\":\"\",\"count\":18,\"window\":\"2019-03-09T10:49:35.999Z\"}'\n",
      "output b'{\"identifier\":\"\",\"count\":9,\"window\":\"2019-03-09T10:49:36.999Z\"}'\n",
      "output b'{\"identifier\":\"\",\"count\":24,\"window\":\"2019-03-09T10:49:37.999Z\"}'\n",
      "output b'{\"identifier\":\"\",\"count\":18,\"window\":\"2019-03-09T10:49:38.999Z\"}'\n",
      "output b'{\"identifier\":\"\",\"count\":9,\"window\":\"2019-03-09T10:49:39.999Z\"}'\n",
      "output b'{\"identifier\":\"\",\"count\":9,\"window\":\"2019-03-09T10:49:40.999Z\"}'\n",
      "output b'{\"identifier\":\"\",\"count\":18,\"window\":\"2019-03-09T10:49:41.999Z\"}'\n",
      "output b'{\"identifier\":\"\",\"count\":14,\"window\":\"2019-03-09T10:49:42.999Z\"}'\n",
      "output b'{\"identifier\":\"\",\"count\":8,\"window\":\"2019-03-09T10:49:43.999Z\"}'\n"
     ]
    }
   ],
   "source": [
    "while True:\n",
    "    for message in consumer:\n",
    "        print(message.topic, message.value)\n",
    "        try:\n",
    "            m = json.loads(message.value)\n",
    "#            identifier = m.get(\"identifier\")\n",
    "            timestamp = m.get(\"window\")\n",
    "            count = m.get(\"count\")\n",
    "            if not timestamp or not count:\n",
    "                print(\"Timestamp or Value are missing\")\n",
    "                continue\n",
    "            figure.data[0].x = figure.data[0].x[-1000:] + (timestamp,)\n",
    "            figure.data[0].y = figure.data[0].y[-1000:] + (count,)\n",
    "        except Exception as e:\n",
    "            print(\"Exception\", e)\n"
   ]
  },
  {
   "cell_type": "code",
   "execution_count": null,
   "metadata": {},
   "outputs": [],
   "source": []
  }
 ],
 "metadata": {
  "kernelspec": {
   "display_name": "Python 3",
   "language": "python",
   "name": "python3"
  },
  "language_info": {
   "codemirror_mode": {
    "name": "ipython",
    "version": 3
   },
   "file_extension": ".py",
   "mimetype": "text/x-python",
   "name": "python",
   "nbconvert_exporter": "python",
   "pygments_lexer": "ipython3",
   "version": "3.6.8"
  }
 },
 "nbformat": 4,
 "nbformat_minor": 2
}
